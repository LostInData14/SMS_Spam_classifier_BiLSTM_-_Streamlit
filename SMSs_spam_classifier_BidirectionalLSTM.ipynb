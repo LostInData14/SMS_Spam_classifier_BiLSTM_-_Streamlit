{
  "nbformat": 4,
  "nbformat_minor": 0,
  "metadata": {
    "colab": {
      "provenance": [],
      "gpuType": "T4"
    },
    "kernelspec": {
      "name": "python3",
      "display_name": "Python 3"
    },
    "language_info": {
      "name": "python"
    },
    "accelerator": "GPU"
  },
  "cells": [
    {
      "cell_type": "markdown",
      "source": [
        "# BiLSTM SMS Spam Detection Streamlit app"
      ],
      "metadata": {
        "id": "Py1SsJ4ejHH6"
      }
    },
    {
      "cell_type": "code",
      "execution_count": 1,
      "metadata": {
        "id": "XREHrnGMZ90w"
      },
      "outputs": [],
      "source": [
        "#importing all the required libraries\n",
        "import pandas as pd\n",
        "import numpy as np\n",
        "import re\n",
        "import matplotlib.pyplot as plt\n",
        "import seaborn as sns\n",
        "\n",
        "import tensorflow as tf\n",
        "from tensorflow.keras.models import Sequential, load_model\n",
        "from tensorflow.keras.layers import Embedding, Bidirectional, LSTM, Dense, SpatialDropout1D\n",
        "from tensorflow.keras.preprocessing.text import Tokenizer\n",
        "from tensorflow.keras.preprocessing.sequence import pad_sequences\n",
        "from tensorflow.keras.callbacks import EarlyStopping, ModelCheckpoint\n",
        "from sklearn.metrics import confusion_matrix, accuracy_score\n",
        "import itertools\n"
      ]
    },
    {
      "cell_type": "markdown",
      "source": [
        "##Downloading the dataset"
      ],
      "metadata": {
        "id": "0V_35VoojdqL"
      }
    },
    {
      "cell_type": "code",
      "source": [
        "#download the spam.csv dataset from google drive.\n",
        "!pip install gdown\n",
        "import gdown\n",
        "\n",
        "file_id = \"1Uu9RwhrTFGAq_lAqQYNy9ok5i6DibrPA\"\n",
        "gdown.download(f\"https://drive.google.com/uc?id={file_id}\", \"spam.csv\", quiet=False)\n",
        "\n"
      ],
      "metadata": {
        "colab": {
          "base_uri": "https://localhost:8080/",
          "height": 333
        },
        "id": "nAa3lUXBgclL",
        "outputId": "2a795e52-cbeb-4f14-84a7-2203d85c8d1d"
      },
      "execution_count": 2,
      "outputs": [
        {
          "output_type": "stream",
          "name": "stdout",
          "text": [
            "Requirement already satisfied: gdown in /usr/local/lib/python3.11/dist-packages (5.2.0)\n",
            "Requirement already satisfied: beautifulsoup4 in /usr/local/lib/python3.11/dist-packages (from gdown) (4.13.3)\n",
            "Requirement already satisfied: filelock in /usr/local/lib/python3.11/dist-packages (from gdown) (3.18.0)\n",
            "Requirement already satisfied: requests[socks] in /usr/local/lib/python3.11/dist-packages (from gdown) (2.32.3)\n",
            "Requirement already satisfied: tqdm in /usr/local/lib/python3.11/dist-packages (from gdown) (4.67.1)\n",
            "Requirement already satisfied: soupsieve>1.2 in /usr/local/lib/python3.11/dist-packages (from beautifulsoup4->gdown) (2.6)\n",
            "Requirement already satisfied: typing-extensions>=4.0.0 in /usr/local/lib/python3.11/dist-packages (from beautifulsoup4->gdown) (4.13.1)\n",
            "Requirement already satisfied: charset-normalizer<4,>=2 in /usr/local/lib/python3.11/dist-packages (from requests[socks]->gdown) (3.4.1)\n",
            "Requirement already satisfied: idna<4,>=2.5 in /usr/local/lib/python3.11/dist-packages (from requests[socks]->gdown) (3.10)\n",
            "Requirement already satisfied: urllib3<3,>=1.21.1 in /usr/local/lib/python3.11/dist-packages (from requests[socks]->gdown) (2.3.0)\n",
            "Requirement already satisfied: certifi>=2017.4.17 in /usr/local/lib/python3.11/dist-packages (from requests[socks]->gdown) (2025.1.31)\n",
            "Requirement already satisfied: PySocks!=1.5.7,>=1.5.6 in /usr/local/lib/python3.11/dist-packages (from requests[socks]->gdown) (1.7.1)\n"
          ]
        },
        {
          "output_type": "stream",
          "name": "stderr",
          "text": [
            "Downloading...\n",
            "From: https://drive.google.com/uc?id=1Uu9RwhrTFGAq_lAqQYNy9ok5i6DibrPA\n",
            "To: /content/spam.csv\n",
            "100%|██████████| 504k/504k [00:00<00:00, 6.43MB/s]\n"
          ]
        },
        {
          "output_type": "execute_result",
          "data": {
            "text/plain": [
              "'spam.csv'"
            ],
            "application/vnd.google.colaboratory.intrinsic+json": {
              "type": "string"
            }
          },
          "metadata": {},
          "execution_count": 2
        }
      ]
    },
    {
      "cell_type": "markdown",
      "source": [
        "## Preprocessing\n",
        "- Reading the csv\n",
        "- Keeping only the needed columns and renaming them.\n",
        "- Lowercase them and reoving the special characters.\n",
        "- Applying the cleaning to the messages.\n",
        "- Label encoding."
      ],
      "metadata": {
        "id": "YBiWZdnajoBM"
      }
    },
    {
      "cell_type": "code",
      "source": [
        "df = pd.read_csv('spam.csv', encoding='latin-1')[['v1', 'v2']]\n",
        "df.columns = ['target', 'text']\n",
        "\n",
        "def clean_text(text):\n",
        "    text = text.lower()\n",
        "    text = re.sub(r'[^a-zA-Z0-9]', ' ', text)\n",
        "    text = re.sub(r'\\s+', ' ', text)\n",
        "    return text\n",
        "\n",
        "df['cleaned_text'] = df['text'].apply(clean_text)\n",
        "df['target'] = df['target'].map({'ham': 0, 'spam': 1})\n"
      ],
      "metadata": {
        "id": "STOizFv2aXcG"
      },
      "execution_count": 3,
      "outputs": []
    },
    {
      "cell_type": "markdown",
      "source": [
        "## Text modeling\n",
        "\n",
        "- Splitting the data into training(80%) and test set (20%)\n",
        "- Prepares word index for input texts.\n",
        "- Fit tokenizer only on training set.\n",
        "- Convert texts into input sequences.\n",
        "- Pad all sequences to same length. i.e max_len= 100 in this case.\n",
        "\n",
        "NOTE: max_words=5000 ➔ limits vocabulary to most frequent 5000 words — prevents overfitting, speeds up training.\n",
        "\n",
        "oov_token=\"<OOV>\" ➔ out-of-vocabulary handling (if unseen words come).\n",
        "\n",
        "max_len=100 ➔ cuts or pads each SMS to 100 tokens — good for SMS data which usually is short."
      ],
      "metadata": {
        "id": "F6PJ3f02kPcH"
      }
    },
    {
      "cell_type": "code",
      "source": [
        "from sklearn.model_selection import train_test_split\n",
        "\n",
        "X = df['cleaned_text']\n",
        "y = df['target']\n",
        "\n",
        "X_train, X_test, y_train, y_test = train_test_split(X, y, test_size=0.2, random_state=42)\n",
        "\n",
        "max_words = 5000\n",
        "max_len = 100\n",
        "\n",
        "tokenizer = Tokenizer(num_words=max_words, oov_token=\"<OOV>\")\n",
        "tokenizer.fit_on_texts(X_train)\n",
        "\n",
        "X_train_seq = tokenizer.texts_to_sequences(X_train)\n",
        "X_test_seq = tokenizer.texts_to_sequences(X_test)\n",
        "\n",
        "X_train_pad = pad_sequences(X_train_seq, maxlen=max_len, padding='post', truncating='post')\n",
        "X_test_pad = pad_sequences(X_test_seq, maxlen=max_len, padding='post', truncating='post')\n"
      ],
      "metadata": {
        "id": "X-ilAjHuaZQP"
      },
      "execution_count": 4,
      "outputs": []
    },
    {
      "cell_type": "markdown",
      "source": [
        "## BiLSTM Model\n",
        "\n",
        "- Defining the BiLSTM architecture.\n",
        "- Turns word indices into dense 40 dimensional vectors.\n",
        "- Regularization i.e dropping random embedding features to prevent overfitting.\n",
        "- BiLSTM laye with 100 units which would help in capturing the patterns from both past and future words.\n",
        "- 'Sigmoid' as the activation in the final output layer: as it is binary classification.\n",
        "- Compile the model.\n",
        "\n",
        "NOTE:\n",
        "\n",
        "EarlyStopping: If validation loss doesn’t improve for 3 epochs ➔ Stop early.\n",
        "\n",
        "ModelCheckpoint: Save only the best model automatically (best_bilstm_model.keras).\n",
        "\n",
        "Training settings:\n",
        "\n",
        "10 epochs\n",
        "\n",
        "Batch size 64\n",
        "\n",
        "Validation set: Using the X_test_pad and y_test that you split earlier."
      ],
      "metadata": {
        "id": "o8-muriFkz1a"
      }
    },
    {
      "cell_type": "code",
      "source": [
        "model = Sequential([\n",
        "    Embedding(max_words, 40, input_length=max_len),\n",
        "    SpatialDropout1D(0.3),\n",
        "    Bidirectional(LSTM(100, dropout=0.3, recurrent_dropout=0.3)),\n",
        "    Dense(1, activation='sigmoid')\n",
        "])\n",
        "\n",
        "model.compile(loss='binary_crossentropy', optimizer='adam', metrics=['accuracy'])\n",
        "\n",
        "early_stop = EarlyStopping(monitor='val_loss', patience=3, restore_best_weights=True)\n",
        "checkpoint = ModelCheckpoint('best_bilstm_model.keras', save_best_only=True, monitor='val_loss', mode='min')\n",
        "\n",
        "history = model.fit(\n",
        "    X_train_pad, y_train,\n",
        "    validation_data=(X_test_pad, y_test),\n",
        "    epochs=10,\n",
        "    batch_size=64,\n",
        "    callbacks=[early_stop, checkpoint]\n",
        ")\n"
      ],
      "metadata": {
        "colab": {
          "base_uri": "https://localhost:8080/"
        },
        "id": "RJmdZG1pamPo",
        "outputId": "beb139b4-e1aa-456f-dc53-e806176c4981"
      },
      "execution_count": 5,
      "outputs": [
        {
          "output_type": "stream",
          "name": "stderr",
          "text": [
            "/usr/local/lib/python3.11/dist-packages/keras/src/layers/core/embedding.py:90: UserWarning: Argument `input_length` is deprecated. Just remove it.\n",
            "  warnings.warn(\n"
          ]
        },
        {
          "output_type": "stream",
          "name": "stdout",
          "text": [
            "Epoch 1/10\n",
            "\u001b[1m70/70\u001b[0m \u001b[32m━━━━━━━━━━━━━━━━━━━━\u001b[0m\u001b[37m\u001b[0m \u001b[1m55s\u001b[0m 606ms/step - accuracy: 0.8616 - loss: 0.4249 - val_accuracy: 0.9561 - val_loss: 0.1733\n",
            "Epoch 2/10\n",
            "\u001b[1m70/70\u001b[0m \u001b[32m━━━━━━━━━━━━━━━━━━━━\u001b[0m\u001b[37m\u001b[0m \u001b[1m43s\u001b[0m 619ms/step - accuracy: 0.9677 - loss: 0.1157 - val_accuracy: 0.9758 - val_loss: 0.0900\n",
            "Epoch 3/10\n",
            "\u001b[1m70/70\u001b[0m \u001b[32m━━━━━━━━━━━━━━━━━━━━\u001b[0m\u001b[37m\u001b[0m \u001b[1m80s\u001b[0m 593ms/step - accuracy: 0.9863 - loss: 0.0546 - val_accuracy: 0.9803 - val_loss: 0.0736\n",
            "Epoch 4/10\n",
            "\u001b[1m70/70\u001b[0m \u001b[32m━━━━━━━━━━━━━━━━━━━━\u001b[0m\u001b[37m\u001b[0m \u001b[1m81s\u001b[0m 580ms/step - accuracy: 0.9916 - loss: 0.0306 - val_accuracy: 0.9830 - val_loss: 0.0739\n",
            "Epoch 5/10\n",
            "\u001b[1m70/70\u001b[0m \u001b[32m━━━━━━━━━━━━━━━━━━━━\u001b[0m\u001b[37m\u001b[0m \u001b[1m42s\u001b[0m 595ms/step - accuracy: 0.9956 - loss: 0.0184 - val_accuracy: 0.9830 - val_loss: 0.0659\n",
            "Epoch 6/10\n",
            "\u001b[1m70/70\u001b[0m \u001b[32m━━━━━━━━━━━━━━━━━━━━\u001b[0m\u001b[37m\u001b[0m \u001b[1m83s\u001b[0m 611ms/step - accuracy: 0.9963 - loss: 0.0147 - val_accuracy: 0.9803 - val_loss: 0.0730\n",
            "Epoch 7/10\n",
            "\u001b[1m70/70\u001b[0m \u001b[32m━━━━━━━━━━━━━━━━━━━━\u001b[0m\u001b[37m\u001b[0m \u001b[1m81s\u001b[0m 602ms/step - accuracy: 0.9972 - loss: 0.0109 - val_accuracy: 0.9830 - val_loss: 0.0756\n",
            "Epoch 8/10\n",
            "\u001b[1m70/70\u001b[0m \u001b[32m━━━━━━━━━━━━━━━━━━━━\u001b[0m\u001b[37m\u001b[0m \u001b[1m81s\u001b[0m 595ms/step - accuracy: 0.9976 - loss: 0.0089 - val_accuracy: 0.9839 - val_loss: 0.0804\n"
          ]
        }
      ]
    },
    {
      "cell_type": "markdown",
      "source": [
        "# Result\n",
        "\n",
        "- A history object to plot the graphs (loss/accuracy over epochs).\n",
        "\n",
        "- Confusion matrix (True label Vs Predicted label)\n",
        "\n",
        "- Saved model (best_bilstm_model.keras) ready to upload in streamlit app."
      ],
      "metadata": {
        "id": "ioJRchGHl3Sl"
      }
    },
    {
      "cell_type": "code",
      "source": [
        "plt.figure(figsize=(12, 4))\n",
        "\n",
        "plt.subplot(1, 2, 1)\n",
        "plt.plot(history.history['accuracy'], label='Train Acc')\n",
        "plt.plot(history.history['val_accuracy'], label='Val Acc')\n",
        "plt.title('Accuracy')\n",
        "plt.legend()\n",
        "\n",
        "plt.subplot(1, 2, 2)\n",
        "plt.plot(history.history['loss'], label='Train Loss')\n",
        "plt.plot(history.history['val_loss'], label='Val Loss')\n",
        "plt.title('Loss')\n",
        "plt.legend()\n",
        "\n",
        "plt.tight_layout()\n",
        "plt.show()\n"
      ],
      "metadata": {
        "colab": {
          "base_uri": "https://localhost:8080/",
          "height": 326
        },
        "id": "bzZuTysoaroG",
        "outputId": "08484dd5-0260-44bb-fecc-13361a3b0b05"
      },
      "execution_count": 6,
      "outputs": [
        {
          "output_type": "display_data",
          "data": {
            "text/plain": [
              "<Figure size 1200x400 with 2 Axes>"
            ],
            "image/png": "[encoded data removed]"
          },
          "metadata": {}
        }
      ]
    },
    {
      "cell_type": "markdown",
      "source": [
        "Left side ➔ Training Accuracy vs Validation Accuracy per epoch\n",
        "\n",
        "Right side ➔ Training Loss vs Validation Loss per epoch.\n",
        "\n",
        "\n",
        "- We do this to check if the model is overfitting (train accuracy >> val accuracy)\n",
        "\n",
        "- To check if the model is underfitting (both accuracies low)\n",
        "\n",
        "Ideally, you want both training and validation accuracies to be close and high."
      ],
      "metadata": {
        "id": "ih0dk6tKmkzQ"
      }
    },
    {
      "cell_type": "markdown",
      "source": [
        "## You can visually confirm if your BiLSTM model is making too many errors or is working well using Confusion matrix.\n",
        "\n",
        "Top left = True Ham\n",
        "\n",
        "Bottom right = True Spam\n",
        "\n",
        "Top right = Ham misclassified as Spam\n",
        "\n",
        "Bottom left = Spam misclassified as Ham"
      ],
      "metadata": {
        "id": "BuB36zYlnDkJ"
      }
    },
    {
      "cell_type": "code",
      "source": [
        "from sklearn.metrics import ConfusionMatrixDisplay\n",
        "\n",
        "y_pred = model.predict(X_test_pad)\n",
        "y_pred_classes = (y_pred > 0.5).astype(\"int32\")\n",
        "\n",
        "cm = confusion_matrix(y_test, y_pred_classes)\n",
        "disp = ConfusionMatrixDisplay(confusion_matrix=cm, display_labels=['Ham', 'Spam'])\n",
        "disp.plot(cmap=plt.cm.Blues)\n",
        "plt.title(\"Confusion Matrix\")\n",
        "plt.show()\n"
      ],
      "metadata": {
        "colab": {
          "base_uri": "https://localhost:8080/",
          "height": 489
        },
        "id": "8aCITMHLavQG",
        "outputId": "272c716a-2adf-468f-b0ad-78bf582ee31b"
      },
      "execution_count": 7,
      "outputs": [
        {
          "output_type": "stream",
          "name": "stdout",
          "text": [
            "\u001b[1m35/35\u001b[0m \u001b[32m━━━━━━━━━━━━━━━━━━━━\u001b[0m\u001b[37m\u001b[0m \u001b[1m5s\u001b[0m 132ms/step\n"
          ]
        },
        {
          "output_type": "display_data",
          "data": {
            "text/plain": [
              "<Figure size 640x480 with 2 Axes>"
            ],
            "image/png": "[encoded data removed]"
          },
          "metadata": {}
        }
      ]
    },
    {
      "cell_type": "markdown",
      "source": [
        "## Saving the trained tokenizer object into file using pickle."
      ],
      "metadata": {
        "id": "XJ1SJh7YnbHA"
      }
    },
    {
      "cell_type": "code",
      "source": [
        "import pickle\n",
        "\n",
        "with open('tokenizer.pkl', 'wb') as f:\n",
        "    pickle.dump(tokenizer, f)\n"
      ],
      "metadata": {
        "id": "F6_i41fQaxPL"
      },
      "execution_count": 8,
      "outputs": []
    },
    {
      "cell_type": "markdown",
      "source": [
        "* When the user enters a new SMS text in the Streamlit app, you need to tokenize and pad it the same way as during training.\n",
        "\n",
        "* If you fit a new Tokenizer, the word indexes will be different — so you need to save and reload your original tokenizer.\n",
        "\n"
      ],
      "metadata": {
        "id": "4bSPHpZenoRT"
      }
    },
    {
      "cell_type": "markdown",
      "source": [
        "Now, that we have,\n",
        "- best_bilstm_model.keras → your trained BiLSTM model\n",
        "\n",
        "- tokenizer.pkl → your trained tokenizer\n",
        "\n",
        "We will be using this in streamlit"
      ],
      "metadata": {
        "id": "ILOZFsA7nw_z"
      }
    }
  ]
}